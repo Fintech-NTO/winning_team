{
 "cells": [
  {
   "cell_type": "code",
   "execution_count": 22,
   "id": "94c886f5",
   "metadata": {},
   "outputs": [],
   "source": [
    "import warnings\n",
    "import itertools\n",
    "import pandas as pd\n",
    "import numpy as np\n",
    "import statsmodels.api as sm\n",
    "import matplotlib.pyplot as plt\n",
    "import seaborn as sns\n",
    "import datetime\n",
    "import time\n",
    "plt.style.use('fivethirtyeight')"
   ]
  },
  {
   "cell_type": "code",
   "execution_count": 27,
   "id": "03e7d7c5",
   "metadata": {},
   "outputs": [
    {
     "data": {
      "text/plain": [
       "'----------------------------------------------------------------------лишнее удалить'"
      ]
     },
     "execution_count": 27,
     "metadata": {},
     "output_type": "execute_result"
    }
   ],
   "source": [
    "from statsmodels.tsa.arima.model import ARIMA\n",
    "from statsmodels.tsa.stattools import acf, pacf\n",
    "from statsmodels.graphics.tsaplots import plot_acf, plot_pacf\n",
    "import optuna\n",
    "from datetime import datetime\n",
    "import random\n",
    "import itertools\n",
    "import statsmodels.api as sm\n",
    "from pandas.plotting import register_matplotlib_converters\n",
    "from statsmodels.tsa.statespace.sarimax import SARIMAX\n",
    "from statsmodels.tsa.holtwinters import SimpleExpSmoothing\n",
    "from statsmodels.tsa.holtwinters import ExponentialSmoothing\n",
    "from sklearn.metrics import mean_squared_error,mean_absolute_error\n",
    "import warnings\n",
    "warnings.filterwarnings('ignore')\n",
    "from IPython.display import HTML\n",
    "\"----------------------------------------------------------------------лишнее удалить\""
   ]
  },
  {
   "cell_type": "code",
   "execution_count": 23,
   "id": "cc45bd27",
   "metadata": {},
   "outputs": [],
   "source": [
    "sber = pd.read_csv('Сбербанк_1day.txt', delimiter = ';')\n",
    "sber = sber[['<DATE>', '<CLOSE>', '<VOLUME>','<OPEN>','<AMOUNT>']]\n",
    "sber = sber.rename(columns={'<DATE>': 'Date', '<CLOSE>': 'Close_s', '<VOLUME>': 'Vol_s', '<OPEN>': 'Open_s', '<AMOUNT>': 'Amount_s'})"
   ]
  },
  {
   "cell_type": "code",
   "execution_count": 24,
   "id": "d097c4f6",
   "metadata": {},
   "outputs": [],
   "source": [
    "sber = pd.read_csv('Сбербанк_1day_05052022_03042024.txt', delimiter = ';')\n",
    "sber = sber[['<DATE>', '<CLOSE>', '<VOLUME>','<OPEN>','<AMOUNT>']]\n",
    "sber = sber.rename(columns={'<DATE>': 'Date', '<CLOSE>': 'Close_s', '<VOLUME>': 'Vol_s', '<OPEN>': 'Open_s', '<AMOUNT>': 'Amount_s'})\n",
    "\n",
    "yandex = pd.read_csv('Yandex_clA_1day_05052022_03042024 (1).txt', delimiter = ';')\n",
    "yandex = yandex[['<DATE>', '<CLOSE>', '<VOLUME>','<OPEN>','<AMOUNT>']]\n",
    "yandex = yandex.rename(columns={'<DATE>': 'Date', '<CLOSE>': 'Close_y', '<VOLUME>': 'Vol_y', '<OPEN>': 'Open_y', '<AMOUNT>': 'Amount_y'})\n",
    "\n",
    "cb = pd.read_excel('Инфляция и ключевая ставка Банка России_F17_09_2013_T02_04_2024.xlsx')\n",
    "cb = cb[['Дата', 'Ключевая ставка, % годовых', 'Инфляция, % г/г']]\n",
    "cb = cb.rename(columns={'Дата': 'Date', 'Ключевая ставка, % годовых': 'Ключевая ставка', 'Инфляция, % г/г': 'Инфляция'})\n",
    "\n",
    "eur = pd.read_csv('eur.csv')\n",
    "usd = pd.read_csv('usd.csv')\n",
    "gbp = pd.read_csv('gbp.csv')\n",
    "\n",
    "eur = eur.groupby('Date').agg({'Price':'mean'}).reset_index()\n",
    "eur = eur.rename(columns={'Price': 'Price_eur'})\n",
    "usd = usd.groupby('Date').agg({'Price':'mean'}).reset_index()\n",
    "usd = usd.rename(columns={'Price': 'Price_usd'})\n",
    "gbp = gbp.groupby('Date').agg({'Price':'mean'}).reset_index()\n",
    "gbp = gbp.rename(columns={'Price': 'Price_gbp'})"
   ]
  },
  {
   "cell_type": "code",
   "execution_count": 25,
   "id": "1506bead",
   "metadata": {},
   "outputs": [
    {
     "data": {
      "text/plain": [
       "'--------------------------------------деление на тест и не тест выборку, доп фичи'"
      ]
     },
     "execution_count": 25,
     "metadata": {},
     "output_type": "execute_result"
    }
   ],
   "source": [
    "\"--------------------------------------деление на тест и не тест выборку, доп фичи\""
   ]
  },
  {
   "cell_type": "code",
   "execution_count": 26,
   "id": "bd6c90eb",
   "metadata": {},
   "outputs": [
    {
     "name": "stdout",
     "output_type": "stream",
     "text": [
      "<class 'pandas.core.frame.DataFrame'>\n",
      "Index: 700 entries, 2022-05-05 to 2024-04-03\n",
      "Data columns (total 9 columns):\n",
      " #   Column     Non-Null Count  Dtype  \n",
      "---  ------     --------------  -----  \n",
      " 0   Close_s    699 non-null    float64\n",
      " 1   Vol_s      699 non-null    float64\n",
      " 2   Open_s     699 non-null    float64\n",
      " 3   Amount_s   699 non-null    float64\n",
      " 4   Price_usd  699 non-null    float64\n",
      " 5   Close_y    700 non-null    float64\n",
      " 6   Vol_y      700 non-null    float64\n",
      " 7   Open_y     700 non-null    float64\n",
      " 8   Amount_y   700 non-null    int64  \n",
      "dtypes: float64(8), int64(1)\n",
      "memory usage: 54.7+ KB\n"
     ]
    }
   ],
   "source": [
    "def rangeDate(start_date, end_date):\n",
    "    res = pd.date_range(\n",
    "        min(start_date, end_date),\n",
    "        max(start_date, end_date)\n",
    "    ).strftime('%Y-%m-%d').tolist()\n",
    "    return res\n",
    "\n",
    "fstart = datetime.datetime.strptime('2022-05-05', '%Y-%m-%d')\n",
    "fend = datetime.datetime.strptime('2024-03-29', '%Y-%m-%d')\n",
    "start = datetime.datetime.combine(fstart, datetime.time(0,0))\n",
    "end = datetime.datetime.combine(fend, datetime.time(23, 59))\n",
    "\n",
    "df = pd.DataFrame()\n",
    "df['Date'] = rangeDate(start, end)\n",
    "\n",
    "df = df.merge(sber, on = \"Date\", how = 'right')\n",
    "df = df.merge(usd, on=\"Date\", how = 'right')\n",
    "df = df.merge(yandex, on=\"Date\", how = 'right')\n",
    "\n",
    "df = df.bfill()\n",
    "df.set_index('Date', inplace=True)\n",
    "df.info()"
   ]
  },
  {
   "cell_type": "code",
   "execution_count": 36,
   "id": "c5bb7d24",
   "metadata": {},
   "outputs": [
    {
     "data": {
      "text/plain": [
       "\"plt.figure(figsize=(15,8))\\nplt.plot(df['Open_s'])\\nplt.title('График временного ряда')\\nplt.xlabel('Дата')\\nplt.ylabel('pricee')\\nplt.show()\""
      ]
     },
     "execution_count": 36,
     "metadata": {},
     "output_type": "execute_result"
    }
   ],
   "source": [
    "'''plt.figure(figsize=(15,8))\n",
    "plt.plot(df['Open_s'])\n",
    "plt.title('График временного ряда')\n",
    "plt.xlabel('Дата')\n",
    "plt.ylabel('pricee')\n",
    "plt.show()'''"
   ]
  },
  {
   "cell_type": "code",
   "execution_count": 8,
   "id": "0ae81301",
   "metadata": {},
   "outputs": [
    {
     "name": "stdout",
     "output_type": "stream",
     "text": [
      "ARIMA(0, 1, 1)x(0, 1, 1, 7) - AIC:3364.2985751608953\n"
     ]
    }
   ],
   "source": [
    "'''def search_optimal_sarima(time_series, seasonal_cycle):\n",
    "    order_vals = diff_vals = ma_vals = range(0, 2)\n",
    "    pdq_combinations = list(itertools.product(order_vals, diff_vals, ma_vals))\n",
    "    seasonal_combinations = [(combo[0], combo[1], combo[2], seasonal_cycle) for combo in pdq_combinations]\n",
    "       \n",
    "    smallest_aic = float(\"inf\")\n",
    "    optimal_order_param = optimal_seasonal_param = None\n",
    "\n",
    "    for order_param in pdq_combinations:\n",
    "        for seasonal_param in seasonal_combinations:\n",
    "            try:\n",
    "                sarima_model = sm.tsa.statespace.SARIMAX(time_series,\n",
    "                                                         order=order_param,\n",
    "                                                         seasonal_order=seasonal_param,\n",
    "                                                         enforce_stationarity=False,\n",
    "                                                         enforce_invertibility=False)\n",
    "\n",
    "                model_results = sarima_model.fit()\n",
    "                if model_results.aic < smallest_aic:\n",
    "                    smallest_aic = model_results.aic\n",
    "                    optimal_order_param = order_param\n",
    "                    optimal_seasonal_param = seasonal_param\n",
    "            except:\n",
    "                continue\n",
    "\n",
    "    print('ARIMA{}x{} - AIC:{}'.format(optimal_order_param, optimal_seasonal_param, smallest_aic))\n",
    "\n",
    "seasonal_cycle_length = 7\n",
    "search_optimal_sarima(df['Open_s'], seasonal_cycle_length)'''"
   ]
  },
  {
   "cell_type": "code",
   "execution_count": 29,
   "id": "6f55746c",
   "metadata": {},
   "outputs": [],
   "source": [
    "from statsmodels.tsa.statespace.sarimax import SARIMAX\n",
    "model = SARIMAX(df['Open_s'], order=(0, 1, 1), seasonal_order=(0, 1, 1, 7))"
   ]
  },
  {
   "cell_type": "code",
   "execution_count": 30,
   "id": "eef33b3d",
   "metadata": {},
   "outputs": [],
   "source": [
    "results = model.fit()\n",
    "#print(results.summary())\n",
    "'''results.plot_diagnostics(figsize=(12, 8))\n",
    "plt.show()'''"
   ]
  },
  {
   "cell_type": "code",
   "execution_count": 32,
   "id": "c5121532",
   "metadata": {},
   "outputs": [
    {
     "name": "stdout",
     "output_type": "stream",
     "text": [
      "2024-10-24    351.576725\n",
      "Freq: D, dtype: float64\n"
     ]
    }
   ],
   "source": [
    "st_pred = results.get_prediction(start=pd.to_datetime('2023-02-01'), dynamic=False) \n",
    "forecast_values = st_pred.predicted_mean\n",
    "actual_values = df['2023-02-01':]['Close_s']\n",
    "\n",
    "print(results.get_prediction(start=pd.to_datetime('2024-10-24'), end=pd.to_datetime('2024-10-24') ).predicted_mean)"
   ]
  },
  {
   "cell_type": "code",
   "execution_count": 33,
   "id": "bc0e0037",
   "metadata": {},
   "outputs": [],
   "source": [
    "def pred(period_start, period_end):   #'2023-02-01'\n",
    "    st_pred = results.get_prediction(start=pd.to_datetime(period_start), end=pd.to_datetime(period_end) , dynamic=False) \n",
    "    forecast_values = st_pred.predicted_mean\n",
    "    actual_values = df['2023-02-01':]['Close_s']\n",
    "    return st_pred.predicted_mean"
   ]
  }
 ],
 "metadata": {
  "kernelspec": {
   "display_name": "Python 3 (ipykernel)",
   "language": "python",
   "name": "python3"
  },
  "language_info": {
   "codemirror_mode": {
    "name": "ipython",
    "version": 3
   },
   "file_extension": ".py",
   "mimetype": "text/x-python",
   "name": "python",
   "nbconvert_exporter": "python",
   "pygments_lexer": "ipython3",
   "version": "3.11.5"
  }
 },
 "nbformat": 4,
 "nbformat_minor": 5
}
